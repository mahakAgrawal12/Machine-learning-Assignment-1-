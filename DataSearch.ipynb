{
 "cells": [
  {
   "cell_type": "code",
   "execution_count": null,
   "id": "0f6a0dc0",
   "metadata": {},
   "outputs": [],
   "source": [
    "import json\n",
    "\n",
    "from StringMatcher import levenshtein_ratio_and_distance\n",
    "from time import time"
   ]
  },
  {
   "cell_type": "markdown",
   "id": "f7642817",
   "metadata": {},
   "source": [
    "#  Load the database into the memory"
   ]
  },
  {
   "cell_type": "code",
   "execution_count": 4,
   "id": "a21d0e0d",
   "metadata": {},
   "outputs": [],
   "source": [
    "data = json.load(open(\"DataStore/datairis.json\", \"rb\"))"
   ]
  },
  {
   "cell_type": "markdown",
   "id": "c39c95fd",
   "metadata": {},
   "source": [
    "#  Load the global secondary index in the memory"
   ]
  },
  {
   "cell_type": "code",
   "execution_count": 6,
   "id": "a1ecf411",
   "metadata": {},
   "outputs": [],
   "source": [
    "GIS = json.load(open(\"dataStore/datacumulative.json\", \"rb\"))"
   ]
  },
  {
   "cell_type": "code",
   "execution_count": 16,
   "id": "c71a2c36",
   "metadata": {},
   "outputs": [],
   "source": [
    "def getClosestMatch(queryString):\n",
    "    # Initialize the time counter...\n",
    "    tic = time()\n",
    "    \n",
    "    # Find closest match of the queryString from the Global Secondary Index...\n",
    "    matchRatios          = [levenshtein_ratio_and_distance(queryString, KEY) for KEY, _ in GIS.items()]\n",
    "    bestMatchRatio       = max(matchRatios)\n",
    "\n",
    "    # If the best match ratio is less than 50% then we will assume that the records doesn't exist...\n",
    "    if (bestMatchRatio < 0.5):\n",
    "        return {\n",
    "            \"response code\" : 404,\n",
    "            \"search time\"   : f\"{time()-tic} seconds\",\n",
    "            \"message\"       : \"error\",\n",
    "            \"response body\" : \"no match found\"\n",
    "        }\n",
    "    \n",
    "    # Otherwise...\n",
    "    bestMatchRatio_index = matchRatios.index(bestMatchRatio)\n",
    "\n",
    "    # Find the movieID of the movie which is the best match to the queryString...\n",
    "    bestMatch_id = list(GIS)[bestMatchRatio_index]\n",
    "    bestMatch_sepalWidthCm    = GIS[bestMatch_id]\n",
    "\n",
    "    # Now we have movieID which is the primary key in our main data-store...\n",
    "    # Retrieve the details of the movie from the MovieID\n",
    "    irisInfo            = data[str(bestMatch_id)]\n",
    "    \n",
    "    # Mark the search completion time...\n",
    "    toc                  = time()\n",
    "\n",
    "    # Add max temp to the response...\n",
    "    irisInfo[\"SepalWidthCm\"] = bestMatch_sepalWidthCm\n",
    "    # Construct the response Model...\n",
    "    responseModel = {\n",
    "        \"response code\" : 200,\n",
    "        \"search time\"   : f\"{toc-tic} seconds\",\n",
    "        \"message\"       : \"success\",\n",
    "        \"response body\" : irisInfo\n",
    "    }\n",
    "    \n",
    "    return responseModel"
   ]
  },
  {
   "cell_type": "code",
   "execution_count": 14,
   "id": "b4533d1d",
   "metadata": {},
   "outputs": [],
   "source": [
    "def request(idToSearch=\"\"):\n",
    "    # Movie name should always be in a string...\n",
    "    idToSearch = str(idToSearch)\n",
    "    # Check if the movie name is valid...\n",
    "    if(idToSearch.replace(\" \", \"\").strip() == \"\"):\n",
    "        return f\"Invalid iris Name\"\n",
    "    \n",
    "    # Make a request to fetch the movie info...\n",
    "    response = getClosestMatch(queryString = idToSearch)\n",
    "\n",
    "    # Check the response code...\n",
    "    if response[\"response code\"] == 404:\n",
    "        return f\"ERROR: No records found\"\n",
    "    \n",
    "    # otherwise...\n",
    "    # Construct user ratings table...\n",
    "    cumulative = response[\"response body\"][\"Id\"]\n",
    "    avocado    = response[\"response body\"][\"Id\"]\n",
    "\n",
    "    for kepid in cumulative:\n",
    "        try    : tags_by_a_single_user_to_a_single_iris = \", \".join([tag for tag in tags if cumulative[\"Id\"] == avocado[\"Id\"]]) # Please don't mind the long veriable name :-)\n",
    "        except : tags_by_a_single_user_to_a_single_iris = \"\"\n",
    "        break\n",
    "    table.add_row([cumulative[\"Id\"], cumulative[\"Id\"], \", \".join(tags_by_a_single_user_to_a_single_iris), cumulative[\"Id\"]])\n",
    "    # Now we need to check if a user has given \n",
    "    data_to_print = f\"\\\n",
    "    Id          : {response['response body']['Id']}\\n\\\n",
    "    sepalWidthCm          : {response['response body']['sepalWidthCm']}\\n\\\n",
    "    User cumulative   : ---------------------------\\n\\\n",
    "    \"\n",
    "    print(data_to_print)\n",
    "    print(table)"
   ]
  },
  {
   "cell_type": "code",
   "execution_count": null,
   "id": "f2302c20",
   "metadata": {},
   "outputs": [],
   "source": [
    "request(idToSearch=\"Species\")"
   ]
  }
 ],
 "metadata": {
  "kernelspec": {
   "display_name": "Python 3",
   "language": "python",
   "name": "python3"
  },
  "language_info": {
   "codemirror_mode": {
    "name": "ipython",
    "version": 3
   },
   "file_extension": ".py",
   "mimetype": "text/x-python",
   "name": "python",
   "nbconvert_exporter": "python",
   "pygments_lexer": "ipython3",
   "version": "3.8.8"
  }
 },
 "nbformat": 4,
 "nbformat_minor": 5
}
